{
 "cells": [
  {
   "cell_type": "code",
   "execution_count": 1,
   "metadata": {},
   "outputs": [],
   "source": [
    "import os\n",
    "os.environ['CUDA_VISIBLE_DEVICES'] = '-1'"
   ]
  },
  {
   "cell_type": "code",
   "execution_count": 2,
   "metadata": {},
   "outputs": [],
   "source": [
    "import numpy as np\n",
    "import pandas as pd\n",
    "\n",
    "import matplotlib.pyplot as plt"
   ]
  },
  {
   "cell_type": "code",
   "execution_count": 3,
   "metadata": {},
   "outputs": [],
   "source": [
    "glcm_df = pd.read_csv(\"glcm_daun_herbal.csv\")"
   ]
  },
  {
   "cell_type": "code",
   "execution_count": 4,
   "metadata": {},
   "outputs": [
    {
     "name": "stdout",
     "output_type": "stream",
     "text": [
      "[[2.15516905 2.12828158 1.57377761 ... 0.87319862 0.87541382 0.87372386]\n",
      " [2.74554302 2.72999087 2.33979724 ... 0.8355909  0.83750832 0.83565643]\n",
      " [2.21988617 2.06405271 1.73408891 ... 0.85594372 0.85792735 0.85600125]\n",
      " ...\n",
      " [1.25172172 1.02591336 0.41265305 ... 0.98129914 0.98279227 0.9812078 ]\n",
      " [1.34750773 1.10200287 0.38796385 ... 0.98054245 0.98229016 0.98050658]\n",
      " [0.98182125 0.77385178 0.30247832 ... 0.98648235 0.98761336 0.98620835]] \n",
      "\n",
      " ['bayammerah' 'bayammerah' 'bayammerah' 'bayammerah' 'bayammerah'\n",
      " 'bayammerah' 'bayammerah' 'bayammerah' 'bayammerah' 'bayammerah'\n",
      " 'bayammerah' 'bayammerah' 'bayammerah' 'bayammerah' 'bayammerah'\n",
      " 'bayammerah' 'bayammerah' 'bayammerah' 'bayammerah' 'bayammerah'\n",
      " 'bayammerah' 'bayammerah' 'bayammerah' 'bayammerah' 'bayammerah'\n",
      " 'bayammerah' 'bayammerah' 'bayammerah' 'bayammerah' 'bayammerah'\n",
      " 'binahongmerah' 'binahongmerah' 'binahongmerah' 'binahongmerah'\n",
      " 'binahongmerah' 'binahongmerah' 'binahongmerah' 'binahongmerah'\n",
      " 'binahongmerah' 'binahongmerah' 'binahongmerah' 'binahongmerah'\n",
      " 'binahongmerah' 'binahongmerah' 'binahongmerah' 'binahongmerah'\n",
      " 'binahongmerah' 'binahongmerah' 'binahongmerah' 'binahongmerah'\n",
      " 'binahongmerah' 'binahongmerah' 'binahongmerah' 'binahongmerah'\n",
      " 'binahongmerah' 'binahongmerah' 'binahongmerah' 'binahongmerah'\n",
      " 'binahongmerah' 'binahongmerah' 'insulin' 'insulin' 'insulin' 'insulin'\n",
      " 'insulin' 'insulin' 'insulin' 'insulin' 'insulin' 'insulin' 'insulin'\n",
      " 'insulin' 'insulin' 'insulin' 'insulin' 'insulin' 'insulin' 'insulin'\n",
      " 'insulin' 'insulin' 'insulin' 'insulin' 'insulin' 'insulin' 'insulin'\n",
      " 'insulin' 'insulin' 'insulin' 'insulin' 'insulin' 'jambubiji' 'jambubiji'\n",
      " 'jambubiji' 'jambubiji' 'jambubiji' 'jambubiji' 'jambubiji' 'jambubiji'\n",
      " 'jambubiji' 'jambubiji' 'jambubiji' 'jambubiji' 'jambubiji' 'jambubiji'\n",
      " 'jambubiji' 'jambubiji' 'jambubiji' 'jambubiji' 'jambubiji' 'jambubiji'\n",
      " 'jambubiji' 'jambubiji' 'jambubiji' 'jambubiji' 'jambubiji' 'jambubiji'\n",
      " 'jambubiji' 'jambubiji' 'jambubiji' 'jambubiji' 'jarak' 'jarak' 'jarak'\n",
      " 'jarak' 'jarak' 'jarak' 'jarak' 'jarak' 'jarak' 'jarak' 'jarak' 'jarak'\n",
      " 'jarak' 'jarak' 'jarak' 'jarak' 'jarak' 'jarak' 'jarak' 'jarak' 'jarak'\n",
      " 'jarak' 'jarak' 'jarak' 'jarak' 'jarak' 'jarak' 'jarak' 'jarak' 'jarak'\n",
      " 'katuk' 'katuk' 'katuk' 'katuk' 'katuk' 'katuk' 'katuk' 'katuk' 'katuk'\n",
      " 'katuk' 'katuk' 'katuk' 'katuk' 'katuk' 'katuk' 'katuk' 'katuk' 'katuk'\n",
      " 'katuk' 'katuk' 'katuk' 'katuk' 'katuk' 'katuk' 'katuk' 'katuk' 'katuk'\n",
      " 'katuk' 'katuk' 'katuk' 'kembangsepatu' 'kembangsepatu' 'kembangsepatu'\n",
      " 'kembangsepatu' 'kembangsepatu' 'kembangsepatu' 'kembangsepatu'\n",
      " 'kembangsepatu' 'kembangsepatu' 'kembangsepatu' 'kembangsepatu'\n",
      " 'kembangsepatu' 'kembangsepatu' 'kembangsepatu' 'kembangsepatu'\n",
      " 'kembangsepatu' 'kembangsepatu' 'kembangsepatu' 'kembangsepatu'\n",
      " 'kembangsepatu' 'kembangsepatu' 'kembangsepatu' 'kembangsepatu'\n",
      " 'kembangsepatu' 'kembangsepatu' 'kembangsepatu' 'kembangsepatu'\n",
      " 'kembangsepatu' 'kembangsepatu' 'kembangsepatu' 'kumiskucing'\n",
      " 'kumiskucing' 'kumiskucing' 'kumiskucing' 'kumiskucing' 'kumiskucing'\n",
      " 'kumiskucing' 'kumiskucing' 'kumiskucing' 'kumiskucing' 'kumiskucing'\n",
      " 'kumiskucing' 'kumiskucing' 'kumiskucing' 'kumiskucing' 'kumiskucing'\n",
      " 'kumiskucing' 'kumiskucing' 'kumiskucing' 'kumiskucing' 'kumiskucing'\n",
      " 'kumiskucing' 'kumiskucing' 'kumiskucing' 'kumiskucing' 'kumiskucing'\n",
      " 'kumiskucing' 'kumiskucing' 'kumiskucing' 'kumiskucing' 'mangkok'\n",
      " 'mangkok' 'mangkok' 'mangkok' 'mangkok' 'mangkok' 'mangkok' 'mangkok'\n",
      " 'mangkok' 'mangkok' 'mangkok' 'mangkok' 'mangkok' 'mangkok' 'mangkok'\n",
      " 'mangkok' 'mangkok' 'mangkok' 'mangkok' 'mangkok' 'mangkok' 'mangkok'\n",
      " 'mangkok' 'mangkok' 'mangkok' 'mangkok' 'mangkok' 'mangkok' 'mangkok'\n",
      " 'mangkok' 'salam' 'salam' 'salam' 'salam' 'salam' 'salam' 'salam' 'salam'\n",
      " 'salam' 'salam' 'salam' 'salam' 'salam' 'salam' 'salam' 'salam' 'salam'\n",
      " 'salam' 'salam' 'salam' 'salam' 'salam' 'salam' 'salam' 'salam' 'salam'\n",
      " 'salam' 'salam' 'salam' 'salam' 'seri' 'seri' 'seri' 'seri' 'seri' 'seri'\n",
      " 'seri' 'seri' 'seri' 'seri' 'seri' 'seri' 'seri' 'seri' 'seri' 'seri'\n",
      " 'seri' 'seri' 'seri' 'seri' 'seri' 'seri' 'seri' 'seri' 'seri' 'seri'\n",
      " 'seri' 'seri' 'seri' 'seri' 'sirih' 'sirih' 'sirih' 'sirih' 'sirih'\n",
      " 'sirih' 'sirih' 'sirih' 'sirih' 'sirih' 'sirih' 'sirih' 'sirih' 'sirih'\n",
      " 'sirih' 'sirih' 'sirih' 'sirih' 'sirih' 'sirih' 'sirih' 'sirih' 'sirih'\n",
      " 'sirih' 'sirih' 'sirih' 'sirih' 'sirih' 'sirih' 'sirih' 'sirsak' 'sirsak'\n",
      " 'sirsak' 'sirsak' 'sirsak' 'sirsak' 'sirsak' 'sirsak' 'sirsak' 'sirsak'\n",
      " 'sirsak' 'sirsak' 'sirsak' 'sirsak' 'sirsak' 'sirsak' 'sirsak' 'sirsak'\n",
      " 'sirsak' 'sirsak' 'sirsak' 'sirsak' 'sirsak' 'sirsak' 'sirsak' 'sirsak'\n",
      " 'sirsak' 'sirsak' 'sirsak' 'sirsak' 'tapakdara' 'tapakdara' 'tapakdara'\n",
      " 'tapakdara' 'tapakdara' 'tapakdara' 'tapakdara' 'tapakdara' 'tapakdara'\n",
      " 'tapakdara' 'tapakdara' 'tapakdara' 'tapakdara' 'tapakdara' 'tapakdara'\n",
      " 'tapakdara' 'tapakdara' 'tapakdara' 'tapakdara' 'tapakdara' 'tapakdara'\n",
      " 'tapakdara' 'tapakdara' 'tapakdara' 'tapakdara' 'tapakdara' 'tapakdara'\n",
      " 'tapakdara' 'tapakdara' 'tapakdara' 'urangaring' 'urangaring'\n",
      " 'urangaring' 'urangaring' 'urangaring' 'urangaring' 'urangaring'\n",
      " 'urangaring' 'urangaring' 'urangaring' 'urangaring' 'urangaring'\n",
      " 'urangaring' 'urangaring' 'urangaring' 'urangaring' 'urangaring'\n",
      " 'urangaring' 'urangaring' 'urangaring' 'urangaring' 'urangaring'\n",
      " 'urangaring' 'urangaring' 'urangaring' 'urangaring' 'urangaring'\n",
      " 'urangaring' 'urangaring' 'urangaring']\n"
     ]
    }
   ],
   "source": [
    "glcm_df.head()\n",
    "\n",
    "X = glcm_df.iloc[:, :-1].values  \n",
    "y = glcm_df.iloc[:, 24].values\n",
    "\n",
    "\n",
    "print(X,\"\\n\\n\", y)"
   ]
  },
  {
   "cell_type": "code",
   "execution_count": 5,
   "metadata": {},
   "outputs": [],
   "source": [
    "label_distr = glcm_df['label'].value_counts()\n",
    "\n",
    "label_name = ['bayammerah','binahongmerah','insulin','jambubiji','jarak', 'katuk', 'kembangsepatu', 'kumiskucing', 'mangkok', 'salam', 'seri', 'sirihmerah', 'sirsak', 'tapakdara', 'urangaring']\n"
   ]
  },
  {
   "cell_type": "code",
   "execution_count": 6,
   "metadata": {},
   "outputs": [
    {
     "data": {
      "image/png": "[encoded data removed]",
      "text/plain": [
       "<Figure size 1440x720 with 1 Axes>"
      ]
     },
     "metadata": {},
     "output_type": "display_data"
    }
   ],
   "source": [
    "plt.figure(figsize=(20,10))\n",
    "\n",
    "my_circle = plt.Circle( (0,0), 0.7, color='white')\n",
    "plt.pie(label_distr, \n",
    "        labels=label_name,  \n",
    "        autopct='%1.1f%%')\n",
    "\n",
    "p = plt.gcf()\n",
    "p.gca().add_artist(my_circle)\n",
    "plt.show()"
   ]
  },
  {
   "cell_type": "code",
   "execution_count": 7,
   "metadata": {},
   "outputs": [
    {
     "name": "stdout",
     "output_type": "stream",
     "text": [
      "kumiskucing      30\n",
      "katuk            30\n",
      "kembangsepatu    30\n",
      "sirih            30\n",
      "jarak            30\n",
      "urangaring       30\n",
      "jambubiji        30\n",
      "mangkok          30\n",
      "binahongmerah    30\n",
      "sirsak           30\n",
      "tapakdara        30\n",
      "insulin          30\n",
      "salam            30\n",
      "bayammerah       30\n",
      "seri             30\n",
      "Name: label, dtype: int64\n"
     ]
    }
   ],
   "source": [
    "print(label_distr)"
   ]
  },
  {
   "cell_type": "code",
   "execution_count": 8,
   "metadata": {},
   "outputs": [],
   "source": [
    "# from sklearn.preprocessing import LabelEncoder\n",
    "# from keras.utils.np_utils import to_categorical\n",
    "\n",
    "from sklearn.model_selection import train_test_split\n",
    "\n",
    "# le = LabelEncoder()\n",
    "# le.fit(glcm_df[\"label\"].values)\n",
    "\n",
    "\n",
    "# print(\" categorical label : \\n\", le.classes_)\n",
    "\n",
    "# Y = le.transform(glcm_df['label'].values)\n",
    "# Y = to_categorical(Y)\n",
    "\n",
    "# print(\"\\n\\n one hot encoding for sample 0 : \\n\", X[0])\n",
    "# print(\"\\n\\n one hot encoding for sample 0 : \\n\", Y[0])\n",
    "\n",
    "# X_train, X_test, y_train, y_test = train_test_split(X, Y, test_size=0.20)\n",
    "\n",
    "# print(\"Dimensi data :\\n\")\n",
    "# print(\"X train \\t X test \\t Yz train \\t Yz test\")  \n",
    "# print(\"%s \\t %s \\t %s \\t %s\" % (X_train.shape, X_test.shape, y_train.shape, y_test.shape))"
   ]
  },
  {
   "cell_type": "code",
   "execution_count": 9,
   "metadata": {},
   "outputs": [
    {
     "name": "stdout",
     "output_type": "stream",
     "text": [
      "Dimensi data :\n",
      "\n",
      "X train \t X test \t Y train \t Y test\n",
      "(360, 24) \t (90, 24) \t (360,) \t (90,)\n",
      "\n",
      " X_train : \n",
      " [[3.70778217 3.99044885 3.48919929 ... 0.72767706 0.73021133 0.72790599]\n",
      " [2.69033759 2.77760308 2.45375635 ... 0.84565991 0.84744109 0.84559221]\n",
      " [4.3977949  4.41727557 4.01169011 ... 0.71087139 0.71441139 0.71045366]\n",
      " ...\n",
      " [2.59190727 2.3319285  1.57066068 ... 0.88105774 0.88394837 0.8810545 ]\n",
      " [2.26778892 1.97004828 1.14806067 ... 0.92436246 0.92668278 0.9241048 ]\n",
      " [4.5612282  4.77353862 4.24159125 ... 0.66875952 0.6717183  0.66873273]] \n",
      "\n",
      "X_test : \n",
      " [[ 2.79334182  2.4289144   1.39845838 ...  0.87198362  0.87525767\n",
      "   0.87203632]\n",
      " [ 2.68010473  2.26225861  1.17740906 ...  0.8993579   0.90283177\n",
      "   0.89918185]\n",
      " [ 2.36070324  2.02605037  1.20019311 ...  0.91694813  0.9194188\n",
      "   0.91678825]\n",
      " ...\n",
      " [10.26474506 10.53165123  9.3672016  ...  0.28217642  0.28908537\n",
      "   0.28261697]\n",
      " [ 1.86746017  1.59971947  0.85625508 ...  0.93395529  0.93625681\n",
      "   0.93391612]\n",
      " [ 1.97240053  1.70450809  0.92215775 ...  0.93167732  0.93409437\n",
      "   0.93170657]] \n",
      "\n",
      "y_train : \n",
      " ['mangkok' 'jarak' 'jarak' 'kumiskucing' 'urangaring' 'tapakdara'\n",
      " 'kumiskucing' 'kumiskucing' 'seri' 'sirsak' 'tapakdara' 'mangkok'\n",
      " 'kembangsepatu' 'sirsak' 'mangkok' 'sirsak' 'bayammerah' 'jarak'\n",
      " 'binahongmerah' 'seri' 'bayammerah' 'seri' 'sirih' 'seri' 'insulin'\n",
      " 'kembangsepatu' 'seri' 'binahongmerah' 'mangkok' 'binahongmerah'\n",
      " 'urangaring' 'tapakdara' 'jarak' 'kumiskucing' 'insulin' 'salam'\n",
      " 'jambubiji' 'sirsak' 'jarak' 'sirih' 'mangkok' 'salam' 'bayammerah'\n",
      " 'bayammerah' 'sirsak' 'mangkok' 'jarak' 'insulin' 'sirsak' 'sirsak'\n",
      " 'bayammerah' 'mangkok' 'urangaring' 'jambubiji' 'tapakdara' 'sirsak'\n",
      " 'jarak' 'tapakdara' 'insulin' 'sirih' 'mangkok' 'urangaring' 'tapakdara'\n",
      " 'insulin' 'kembangsepatu' 'binahongmerah' 'kumiskucing' 'urangaring'\n",
      " 'insulin' 'seri' 'kumiskucing' 'sirsak' 'salam' 'katuk' 'insulin'\n",
      " 'sirsak' 'seri' 'binahongmerah' 'salam' 'bayammerah' 'katuk' 'salam'\n",
      " 'kembangsepatu' 'katuk' 'insulin' 'binahongmerah' 'insulin' 'tapakdara'\n",
      " 'jambubiji' 'katuk' 'bayammerah' 'jarak' 'salam' 'binahongmerah'\n",
      " 'kumiskucing' 'jambubiji' 'sirih' 'sirsak' 'jarak' 'urangaring' 'insulin'\n",
      " 'sirsak' 'jambubiji' 'sirih' 'insulin' 'mangkok' 'jarak' 'binahongmerah'\n",
      " 'jarak' 'bayammerah' 'jarak' 'jarak' 'kumiskucing' 'kembangsepatu'\n",
      " 'tapakdara' 'kembangsepatu' 'jarak' 'sirsak' 'sirsak' 'urangaring'\n",
      " 'urangaring' 'tapakdara' 'jarak' 'sirih' 'katuk' 'mangkok' 'sirih'\n",
      " 'salam' 'jambubiji' 'insulin' 'insulin' 'bayammerah' 'katuk' 'bayammerah'\n",
      " 'katuk' 'katuk' 'kembangsepatu' 'binahongmerah' 'sirsak' 'jambubiji'\n",
      " 'katuk' 'kembangsepatu' 'insulin' 'insulin' 'jambubiji' 'insulin'\n",
      " 'kumiskucing' 'seri' 'katuk' 'mangkok' 'binahongmerah' 'tapakdara'\n",
      " 'salam' 'salam' 'sirih' 'kumiskucing' 'insulin' 'jambubiji' 'sirsak'\n",
      " 'urangaring' 'kembangsepatu' 'insulin' 'kembangsepatu' 'urangaring'\n",
      " 'kumiskucing' 'sirsak' 'salam' 'urangaring' 'jarak' 'salam' 'tapakdara'\n",
      " 'katuk' 'sirsak' 'tapakdara' 'bayammerah' 'salam' 'bayammerah' 'seri'\n",
      " 'jarak' 'insulin' 'tapakdara' 'salam' 'urangaring' 'urangaring'\n",
      " 'kumiskucing' 'insulin' 'jarak' 'seri' 'mangkok' 'sirih' 'seri' 'seri'\n",
      " 'kumiskucing' 'bayammerah' 'tapakdara' 'insulin' 'sirsak' 'insulin'\n",
      " 'kembangsepatu' 'sirsak' 'kumiskucing' 'tapakdara' 'kembangsepatu'\n",
      " 'kembangsepatu' 'mangkok' 'kembangsepatu' 'urangaring' 'katuk' 'sirih'\n",
      " 'bayammerah' 'binahongmerah' 'sirsak' 'salam' 'kumiskucing' 'seri'\n",
      " 'urangaring' 'katuk' 'jarak' 'seri' 'urangaring' 'tapakdara' 'sirih'\n",
      " 'urangaring' 'jambubiji' 'sirsak' 'binahongmerah' 'kumiskucing'\n",
      " 'urangaring' 'jarak' 'bayammerah' 'salam' 'sirih' 'jambubiji' 'salam'\n",
      " 'binahongmerah' 'salam' 'urangaring' 'mangkok' 'katuk' 'binahongmerah'\n",
      " 'jambubiji' 'katuk' 'kumiskucing' 'mangkok' 'salam' 'urangaring'\n",
      " 'binahongmerah' 'binahongmerah' 'binahongmerah' 'kumiskucing' 'jarak'\n",
      " 'seri' 'bayammerah' 'kumiskucing' 'kembangsepatu' 'jambubiji'\n",
      " 'binahongmerah' 'urangaring' 'jarak' 'insulin' 'kembangsepatu' 'salam'\n",
      " 'insulin' 'jambubiji' 'binahongmerah' 'sirih' 'seri' 'bayammerah'\n",
      " 'kembangsepatu' 'binahongmerah' 'sirih' 'urangaring' 'seri'\n",
      " 'binahongmerah' 'katuk' 'jambubiji' 'insulin' 'urangaring' 'sirsak'\n",
      " 'kumiskucing' 'binahongmerah' 'kembangsepatu' 'salam' 'sirih'\n",
      " 'kembangsepatu' 'seri' 'tapakdara' 'tapakdara' 'binahongmerah'\n",
      " 'jambubiji' 'salam' 'mangkok' 'mangkok' 'jarak' 'bayammerah' 'sirih'\n",
      " 'katuk' 'sirih' 'kembangsepatu' 'mangkok' 'tapakdara' 'bayammerah'\n",
      " 'sirih' 'bayammerah' 'sirsak' 'seri' 'urangaring' 'seri' 'tapakdara'\n",
      " 'binahongmerah' 'bayammerah' 'mangkok' 'kembangsepatu' 'kumiskucing'\n",
      " 'bayammerah' 'kembangsepatu' 'jarak' 'sirsak' 'sirih' 'seri' 'salam'\n",
      " 'sirih' 'seri' 'seri' 'jambubiji' 'tapakdara' 'jarak' 'mangkok'\n",
      " 'binahongmerah' 'bayammerah' 'salam' 'insulin' 'mangkok' 'jambubiji'\n",
      " 'urangaring' 'jarak' 'salam' 'kumiskucing' 'salam' 'seri' 'seri' 'jarak'\n",
      " 'katuk' 'bayammerah' 'mangkok' 'insulin' 'urangaring' 'sirih' 'katuk'\n",
      " 'kumiskucing' 'kumiskucing' 'insulin' 'binahongmerah' 'jambubiji'\n",
      " 'jambubiji' 'urangaring' 'binahongmerah' 'jambubiji' 'tapakdara'\n",
      " 'mangkok'] \n",
      "\n",
      "y_test : \n",
      " ['salam' 'katuk' 'tapakdara' 'insulin' 'katuk' 'mangkok' 'jambubiji'\n",
      " 'kumiskucing' 'bayammerah' 'sirih' 'jarak' 'sirsak' 'jarak' 'tapakdara'\n",
      " 'sirih' 'tapakdara' 'katuk' 'kembangsepatu' 'bayammerah' 'katuk' 'seri'\n",
      " 'jambubiji' 'sirih' 'tapakdara' 'urangaring' 'kumiskucing' 'sirsak'\n",
      " 'seri' 'kembangsepatu' 'salam' 'katuk' 'bayammerah' 'sirih' 'kumiskucing'\n",
      " 'jambubiji' 'bayammerah' 'katuk' 'seri' 'kembangsepatu' 'urangaring'\n",
      " 'jambubiji' 'jambubiji' 'sirih' 'seri' 'mangkok' 'jambubiji' 'mangkok'\n",
      " 'mangkok' 'bayammerah' 'sirsak' 'tapakdara' 'salam' 'tapakdara' 'katuk'\n",
      " 'jambubiji' 'kembangsepatu' 'kumiskucing' 'jambubiji' 'binahongmerah'\n",
      " 'salam' 'bayammerah' 'kembangsepatu' 'binahongmerah' 'tapakdara' 'salam'\n",
      " 'tapakdara' 'sirsak' 'kembangsepatu' 'katuk' 'sirih' 'katuk' 'mangkok'\n",
      " 'mangkok' 'kumiskucing' 'mangkok' 'jambubiji' 'sirih' 'sirih'\n",
      " 'urangaring' 'kembangsepatu' 'seri' 'jarak' 'sirsak' 'kembangsepatu'\n",
      " 'sirih' 'insulin' 'kumiskucing' 'binahongmerah' 'katuk' 'katuk'] \n",
      "\n",
      "result_train : \n",
      " [('mangkok', 23), ('jarak', 27), ('kumiskucing', 24), ('urangaring', 27), ('tapakdara', 22), ('seri', 25), ('sirsak', 25), ('kembangsepatu', 22), ('bayammerah', 24), ('binahongmerah', 27), ('sirih', 21), ('insulin', 28), ('salam', 25), ('jambubiji', 21), ('katuk', 19)]\n",
      "result_test : \n",
      " [('salam', 5), ('katuk', 11), ('tapakdara', 8), ('insulin', 2), ('mangkok', 7), ('jambubiji', 9), ('kumiskucing', 6), ('bayammerah', 6), ('sirih', 9), ('jarak', 3), ('sirsak', 5), ('kembangsepatu', 8), ('seri', 5), ('urangaring', 3), ('binahongmerah', 3)]\n"
     ]
    }
   ],
   "source": [
    "from collections import Counter\n",
    "\n",
    "X_train, X_test, y_train, y_test = train_test_split(X, y, test_size=0.20)\n",
    "\n",
    "print(\"Dimensi data :\\n\")\n",
    "print(\"X train \\t X test \\t Y train \\t Y test\")  \n",
    "print(\"%s \\t %s \\t %s \\t %s\" % (X_train.shape, X_test.shape, y_train.shape, y_test.shape))\n",
    "\n",
    "print(\"\\n X_train : \\n\",X_train,\"\\n\")\n",
    "print(\"X_test : \\n\",X_test,\"\\n\")\n",
    "\n",
    "print(\"y_train : \\n\",y_train,\"\\n\")\n",
    "print(\"y_test : \\n\",y_test,\"\\n\")\n",
    "\n",
    "counter_train = Counter(y_train)\n",
    "counter_test = Counter(y_test)\n",
    "\n",
    "\n",
    "result_train = [(key, counter_train[key]) for key in counter_train]\n",
    "result_test = [(key2, counter_test[key2]) for key2 in counter_test]\n",
    "\n",
    "\n",
    "print(\"result_train : \\n\",result_train)\n",
    "print(\"result_test : \\n\",result_test)"
   ]
  },
  {
   "cell_type": "code",
   "execution_count": 10,
   "metadata": {},
   "outputs": [
    {
     "name": "stdout",
     "output_type": "stream",
     "text": [
      "X_train : \n",
      " [[-0.1049858   0.07588204  0.2166784  ... -0.61724351 -0.62893522\n",
      "  -0.6154516 ]\n",
      " [-0.52917327 -0.41792652 -0.23595149 ...  0.31627248  0.30732576\n",
      "   0.3158114 ]\n",
      " [ 0.18269057  0.24966397  0.4450782  ... -0.75021502 -0.75512225\n",
      "  -0.75355365]\n",
      " ...\n",
      " [-0.5702103  -0.59938234 -0.62198484 ...  0.59635082  0.59889291\n",
      "   0.59642811]\n",
      " [-0.70533996 -0.7467214  -0.80671872 ...  0.93899086  0.94019325\n",
      "   0.9370895 ]\n",
      " [ 0.25082829  0.39471601  0.54557638 ... -1.08341687 -1.09609258\n",
      "  -1.08369563]] \n",
      "\n",
      "X_test : \n",
      " [[-0.4862293  -0.55989466 -0.69726074 ...  0.52455366  0.52948422\n",
      "   0.52506631]\n",
      " [-0.5334395  -0.62774835 -0.79388947 ...  0.74114723  0.74970607\n",
      "   0.73987168]\n",
      " [-0.66660263 -0.72392022 -0.78392973 ...  0.88032645  0.88217914\n",
      "   0.87919293]\n",
      " ...\n",
      " [ 2.62870759  2.73912397  2.7861677  ... -4.14217936 -4.15200862\n",
      "  -4.13906877]\n",
      " [-0.87224285 -0.89750029 -0.93427759 ...  1.01489222  1.01665673\n",
      "   1.01472747]\n",
      " [-0.82849169 -0.85483574 -0.90546913 ...  0.99686828  0.99938625\n",
      "   0.99724307]] \n",
      "\n"
     ]
    }
   ],
   "source": [
    "# from sklearn.preprocessing import StandardScaler  \n",
    "from sklearn.preprocessing import StandardScaler  \n",
    "\n",
    "scaler = StandardScaler()  \n",
    "scaler.fit(X_train)\n",
    "\n",
    "import pickle\n",
    "\n",
    "# Its important to use binary mode \n",
    "datalatih = open('datalatih', 'wb') \n",
    "\n",
    "# source, destination \n",
    "pickle.dump(X_train, datalatih)  \n",
    "\n",
    "\n",
    "X_train_scaled = scaler.transform(X_train)  \n",
    "X_test_scaled = scaler.transform(X_test)\n",
    "\n",
    "print(\"X_train : \\n\" ,X_train_scaled,\"\\n\")\n",
    "print(\"X_test : \\n\" ,X_test_scaled,\"\\n\")"
   ]
  },
  {
   "cell_type": "code",
   "execution_count": 11,
   "metadata": {},
   "outputs": [
    {
     "data": {
      "image/png": "[encoded data removed]",
      "text/plain": [
       "<Figure size 1440x360 with 2 Axes>"
      ]
     },
     "metadata": {
      "needs_background": "light"
     },
     "output_type": "display_data"
    }
   ],
   "source": [
    "fig, (ax1, ax2) = plt.subplots(1, 2, figsize=(20,5))\n",
    "\n",
    "ax1.scatter(X_train[:20, 0], X_train[:20, 1], c='red', marker='v')\n",
    "ax1.scatter(X_test[:20, 0], X_test[:20, 1])\n",
    "ax1.set_title('Data Sebelum Scaling', fontsize=20)\n",
    "ax1.set_xlabel('mean radius')\n",
    "ax1.set_ylabel('mean texture')\n",
    "\n",
    "\n",
    "ax2.scatter(X_train_scaled[:20, 0], X_train_scaled[:20, 1], c='red', marker='v')\n",
    "ax2.scatter(X_test_scaled[:20, 0], X_test_scaled[:20, 1])\n",
    "ax2.set_title('Data Setelah Scaling (Benar)', fontsize=20)\n",
    "ax2.set_xlabel('mean radius')\n",
    "ax2.set_ylabel('mean texture')\n",
    "\n",
    "plt.savefig('scaling.png')"
   ]
  },
  {
   "cell_type": "code",
   "execution_count": 12,
   "metadata": {},
   "outputs": [
    {
     "data": {
      "text/plain": [
       "Text(0, 0.5, 'Error rata-rata')"
      ]
     },
     "execution_count": 12,
     "metadata": {},
     "output_type": "execute_result"
    },
    {
     "data": {
      "image/png": "[encoded data removed]",
      "text/plain": [
       "<Figure size 864x432 with 1 Axes>"
      ]
     },
     "metadata": {
      "needs_background": "light"
     },
     "output_type": "display_data"
    }
   ],
   "source": [
    "from sklearn.neighbors import KNeighborsClassifier \n",
    "\n",
    "error = []\n",
    "\n",
    "# Calculating error for K values between 1 and 40\n",
    "for i in range(1, 40):  \n",
    "    knn = KNeighborsClassifier(n_neighbors=i)\n",
    "    knn.fit(X_train_scaled, y_train)\n",
    "    pred_i = knn.predict(X_test_scaled)\n",
    "    error.append(np.mean(pred_i != y_test))\n",
    "    \n",
    "plt.figure(figsize=(12, 6))  \n",
    "plt.plot(range(1, 40), error, color='red', linestyle='dashed', marker='o',  \n",
    "         markerfacecolor='blue', markersize=10)\n",
    "plt.title('Error Rate Nilai K')  \n",
    "plt.xlabel('Nilai K')  \n",
    "plt.ylabel('Error rata-rata')\n",
    "\n"
   ]
  },
  {
   "cell_type": "code",
   "execution_count": 13,
   "metadata": {},
   "outputs": [
    {
     "data": {
      "text/plain": [
       "KNeighborsClassifier(n_neighbors=3)"
      ]
     },
     "execution_count": 13,
     "metadata": {},
     "output_type": "execute_result"
    }
   ],
   "source": [
    "classifier = KNeighborsClassifier(n_neighbors=3)  \n",
    "classifier.fit(X_train_scaled, y_train)"
   ]
  },
  {
   "cell_type": "code",
   "execution_count": 14,
   "metadata": {},
   "outputs": [
    {
     "name": "stdout",
     "output_type": "stream",
     "text": [
      "0.7666666666666667\n"
     ]
    }
   ],
   "source": [
    " # predict test data\n",
    "y_pred=classifier.predict(X_test_scaled)\n",
    "print(classifier.score(X_test_scaled, y_test))"
   ]
  },
  {
   "cell_type": "code",
   "execution_count": 15,
   "metadata": {},
   "outputs": [
    {
     "name": "stdout",
     "output_type": "stream",
     "text": [
      "[[6 0 0 0 0 0 0 0 0 0 0 0 0 0 0]\n",
      " [0 3 0 0 0 0 0 0 0 0 0 0 0 0 0]\n",
      " [0 0 2 0 0 0 0 0 0 0 0 0 0 0 0]\n",
      " [0 3 0 3 0 0 0 0 0 1 2 0 0 0 0]\n",
      " [0 0 0 0 1 0 1 0 1 0 0 0 0 0 0]\n",
      " [0 0 0 0 0 9 0 1 0 0 0 0 0 1 0]\n",
      " [0 0 0 0 0 0 7 0 1 0 0 0 0 0 0]\n",
      " [0 0 0 0 0 0 0 6 0 0 0 0 0 0 0]\n",
      " [1 1 0 0 1 0 1 0 3 0 0 0 0 0 0]\n",
      " [0 0 0 1 0 2 0 0 0 2 0 0 0 0 0]\n",
      " [0 0 0 0 0 0 0 0 0 0 5 0 0 0 0]\n",
      " [0 0 0 0 0 0 0 1 0 0 0 8 0 0 0]\n",
      " [0 0 0 1 0 0 0 0 0 1 0 0 3 0 0]\n",
      " [0 0 0 0 0 0 0 0 0 0 0 0 0 8 0]\n",
      " [0 0 0 0 0 0 0 0 0 0 0 0 0 0 3]]\n",
      "               precision    recall  f1-score   support\n",
      "\n",
      "   bayammerah       0.86      1.00      0.92         6\n",
      "binahongmerah       0.43      1.00      0.60         3\n",
      "      insulin       1.00      1.00      1.00         2\n",
      "    jambubiji       0.60      0.33      0.43         9\n",
      "        jarak       0.50      0.33      0.40         3\n",
      "        katuk       0.82      0.82      0.82        11\n",
      "kembangsepatu       0.78      0.88      0.82         8\n",
      "  kumiskucing       0.75      1.00      0.86         6\n",
      "      mangkok       0.60      0.43      0.50         7\n",
      "        salam       0.50      0.40      0.44         5\n",
      "         seri       0.71      1.00      0.83         5\n",
      "   sirihmerah       1.00      0.89      0.94         9\n",
      "       sirsak       1.00      0.60      0.75         5\n",
      "    tapakdara       0.89      1.00      0.94         8\n",
      "   urangaring       1.00      1.00      1.00         3\n",
      "\n",
      "     accuracy                           0.77        90\n",
      "    macro avg       0.76      0.78      0.75        90\n",
      " weighted avg       0.77      0.77      0.75        90\n",
      "\n"
     ]
    }
   ],
   "source": [
    "from sklearn.metrics import classification_report, confusion_matrix  \n",
    "\n",
    "\n",
    "# import itertools\n",
    "# def plot_confusion_matrix(cm, classes,\n",
    "#                           normalize=False,\n",
    "#                           title='Confusion matrix',\n",
    "#                           cmap=plt.cm.Blues):\n",
    "#     if normalize:\n",
    "#         cm = cm.astype('float') / cm.sum(axis=1)[:, np.newaxis]\n",
    "\n",
    "#     plt.figure(figsize=(10, 10))\n",
    "    \n",
    "#     plt.imshow(cm, interpolation='nearest', cmap=cmap)\n",
    "#     plt.title(title)\n",
    "#     plt.colorbar()\n",
    "    \n",
    "#     tick_marks = np.arange(len(classes))\n",
    "#     plt.xticks(tick_marks, classes, rotation=45)\n",
    "#     plt.yticks(tick_marks, classes)\n",
    "\n",
    "#     fmt = '.2f' if normalize else 'd'\n",
    "#     thresh = cm.max() / 2.\n",
    "#     for i, j in itertools.product(range(cm.shape[0]), range(cm.shape[1])):\n",
    "#         plt.text(j, i, format(cm[i, j], fmt),\n",
    "#                  horizontalalignment=\"center\",\n",
    "#                  color=\"white\" if cm[i, j] > thresh else \"black\")\n",
    "\n",
    "#     plt.tight_layout()\n",
    "#     plt.ylabel('True label')\n",
    "#     plt.xlabel('Predicted label')\n",
    "#     plt.show()\n",
    "    \n",
    "#  # predict test data\n",
    "# y_pred=classifier.predict(X_test_scaled)\n",
    "\n",
    "\n",
    "# # Compute confusion matrix\n",
    "# cnf_matrix = confusion_matrix(y_test.argmax(axis=1), y_pred.argmax(axis=1))\n",
    "# np.set_printoptions(precision=2)\n",
    "\n",
    "\n",
    "# # Plot non-normalized confusion matrix\n",
    "# plot_confusion_matrix(cnf_matrix, \n",
    "#                       classes=['bayammerah','binahongmerah','insulin','jambubiji','jarak', 'katuk', 'kembangsepatu', 'kumiskucing', 'mangkok', 'salam', 'seri', 'sirihmerah', 'sirsak', 'tapakdara', 'urangaring'],\n",
    "#                       normalize=False,\n",
    "#                       title='Confusion matrix, with normalization')\n",
    "\n",
    "\n",
    "print(confusion_matrix(y_test, y_pred))  \n",
    "\n",
    "print(classification_report(y_test, \n",
    "                            y_pred, \n",
    "                            target_names=['bayammerah','binahongmerah','insulin','jambubiji','jarak', 'katuk', 'kembangsepatu', 'kumiskucing', 'mangkok', 'salam', 'seri', 'sirihmerah', 'sirsak', 'tapakdara', 'urangaring']))\n"
   ]
  },
  {
   "cell_type": "code",
   "execution_count": 16,
   "metadata": {},
   "outputs": [],
   "source": [
    "# import pickle\n",
    "\n",
    "# Its important to use binary mode \n",
    "knnPickle = open('model_baru', 'wb') \n",
    "\n",
    "# source, destination \n",
    "pickle.dump(classifier, knnPickle)                      \n",
    "\n",
    "\n",
    "# load the model from disk\n",
    "# loaded_model = pickle.load(open('knnpickle_file', 'rb'))\n",
    "# result = loaded_model.predict(X_test) "
   ]
  },
  {
   "cell_type": "code",
   "execution_count": 17,
   "metadata": {},
   "outputs": [],
   "source": [
    "# import tensorflow as tf\n",
    "# converter = tf.lite.TFLiteConverter.from_session_graph( inputs, outputs )\n",
    "# buffer = converter.convert()\n",
    "# open( \"model.tflite\", 'wb' ).write(buffer)"
   ]
  }
 ],
 "metadata": {
  "kernelspec": {
   "display_name": "Python 3",
   "language": "python",
   "name": "python3"
  },
  "language_info": {
   "codemirror_mode": {
    "name": "ipython",
    "version": 3
   },
   "file_extension": ".py",
   "mimetype": "text/x-python",
   "name": "python",
   "nbconvert_exporter": "python",
   "pygments_lexer": "ipython3",
   "version": "3.6.12"
  }
 },
 "nbformat": 4,
 "nbformat_minor": 4
}
