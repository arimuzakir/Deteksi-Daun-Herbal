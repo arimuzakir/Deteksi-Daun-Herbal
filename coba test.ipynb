{
 "cells": [
  {
   "cell_type": "code",
   "execution_count": 1,
   "metadata": {},
   "outputs": [],
   "source": [
    "import numpy as np \n",
    "import cv2 \n",
    "import os\n",
    "import re"
   ]
  },
  {
   "cell_type": "code",
   "execution_count": 2,
   "metadata": {},
   "outputs": [],
   "source": [
    "dataset_dir = \"dataset_cropping\" \n",
    "name = \"bayam_merah30.jpg\""
   ]
  },
  {
   "cell_type": "code",
   "execution_count": 3,
   "metadata": {},
   "outputs": [],
   "source": [
    "img = cv2.imread(os.path.join(dataset_dir,\"Bayam Merah\",name))"
   ]
  },
  {
   "cell_type": "code",
   "execution_count": 4,
   "metadata": {},
   "outputs": [],
   "source": [
    "gray = cv2.cvtColor(img, cv2.COLOR_BGR2GRAY)"
   ]
  },
  {
   "cell_type": "code",
   "execution_count": 5,
   "metadata": {},
   "outputs": [],
   "source": [
    "h, w = gray.shape"
   ]
  },
  {
   "cell_type": "code",
   "execution_count": 6,
   "metadata": {},
   "outputs": [],
   "source": [
    "ymin, ymax, xmin, xmax = h//150, h*149//150, w//150, w*149//150    "
   ]
  },
  {
   "cell_type": "code",
   "execution_count": 7,
   "metadata": {},
   "outputs": [],
   "source": [
    "crop = gray[ymin:ymax, xmin:xmax]\n",
    "resize = cv2.resize(crop, (0,0), fx=0.2, fy=0.2)"
   ]
  },
  {
   "cell_type": "code",
   "execution_count": 8,
   "metadata": {},
   "outputs": [],
   "source": [
    "imgs = [] #list image matrix \n",
    "labels = []\n",
    "descs = []\n",
    "imgs.append(resize)"
   ]
  },
  {
   "cell_type": "code",
   "execution_count": 9,
   "metadata": {},
   "outputs": [],
   "source": [
    "# cv2.imshow(name, resize)\n",
    "# cv2.waitKey(0)\n",
    "# cv2.destroyAllWindows() "
   ]
  },
  {
   "cell_type": "code",
   "execution_count": 10,
   "metadata": {},
   "outputs": [],
   "source": [
    "def normalize_label(str_):\n",
    "    str_ = str_.replace(\" \", \"\")\n",
    "    str_ = str_.translate(str_.maketrans(\"\",\"\", \"()\"))\n",
    "    str_ = str_.split(\"_\")\n",
    "    return re.sub(r'\\d+$', '',''.join(str_[:2]))\n",
    "\n",
    "labels.append(normalize_label(os.path.splitext(name)[0]))"
   ]
  },
  {
   "cell_type": "code",
   "execution_count": 11,
   "metadata": {},
   "outputs": [],
   "source": [
    "from skimage.feature import greycomatrix, greycoprops\n",
    "\n",
    "# ----------------- calculate greycomatrix() & greycoprops() for angle 0, 45, 90, 135 ----------------------------------\n",
    "def calc_glcm_all_agls(img, label, props, dists=[5], agls=[0, np.pi/4, np.pi/2, 3*np.pi/4], lvl=256, sym=True, norm=True):\n",
    "    glcm = greycomatrix(img, \n",
    "                        distances=dists, \n",
    "                        angles=agls, \n",
    "                        levels=lvl,\n",
    "                        symmetric=sym, \n",
    "                        normed=norm)\n",
    "    feature = []\n",
    "    glcm_props = [propery for name in props for propery in greycoprops(glcm, name)[0]]\n",
    "    for item in glcm_props:\n",
    "            feature.append(item)\n",
    "    feature.append(label) \n",
    "    \n",
    "    return feature\n",
    "\n",
    "\n",
    "# ----------------- call calc_glcm_all_agls() for all properties ----------------------------------\n",
    "properties = ['dissimilarity', 'correlation', 'homogeneity', 'contrast', 'ASM', 'energy']\n",
    "\n",
    "glcm_all_agls = []\n",
    "for img, label in zip(imgs, labels): \n",
    "    glcm_all_agls.append(\n",
    "            calc_glcm_all_agls(img, \n",
    "                                label, \n",
    "                                props=properties)\n",
    "                            )\n",
    " \n",
    "columns = []\n",
    "angles = ['0', '45', '90','135']\n",
    "for name in properties :\n",
    "    for ang in angles:\n",
    "        columns.append(name + \"_\" + ang)\n",
    "        \n",
    "columns.append(\"label\")\n"
   ]
  },
  {
   "cell_type": "code",
   "execution_count": 12,
   "metadata": {},
   "outputs": [],
   "source": [
    "import pandas as pd \n",
    "\n",
    "# Create the pandas DataFrame for GLCM features data\n",
    "glcm_df = pd.DataFrame(glcm_all_agls, \n",
    "                      columns = columns)\n",
    "\n",
    "#save to csv\n",
    "# glcm_df.to_csv(\"glcm_daun_herbal2.csv\")"
   ]
  },
  {
   "cell_type": "code",
   "execution_count": 13,
   "metadata": {},
   "outputs": [
    {
     "data": {
      "text/html": [
       "<div>\n",
       "<style scoped>\n",
       "    .dataframe tbody tr th:only-of-type {\n",
       "        vertical-align: middle;\n",
       "    }\n",
       "\n",
       "    .dataframe tbody tr th {\n",
       "        vertical-align: top;\n",
       "    }\n",
       "\n",
       "    .dataframe thead th {\n",
       "        text-align: right;\n",
       "    }\n",
       "</style>\n",
       "<table border=\"1\" class=\"dataframe\">\n",
       "  <thead>\n",
       "    <tr style=\"text-align: right;\">\n",
       "      <th></th>\n",
       "      <th>dissimilarity_0</th>\n",
       "      <th>dissimilarity_45</th>\n",
       "      <th>dissimilarity_90</th>\n",
       "      <th>dissimilarity_135</th>\n",
       "      <th>correlation_0</th>\n",
       "      <th>correlation_45</th>\n",
       "      <th>correlation_90</th>\n",
       "      <th>correlation_135</th>\n",
       "      <th>homogeneity_0</th>\n",
       "      <th>homogeneity_45</th>\n",
       "      <th>...</th>\n",
       "      <th>contrast_135</th>\n",
       "      <th>ASM_0</th>\n",
       "      <th>ASM_45</th>\n",
       "      <th>ASM_90</th>\n",
       "      <th>ASM_135</th>\n",
       "      <th>energy_0</th>\n",
       "      <th>energy_45</th>\n",
       "      <th>energy_90</th>\n",
       "      <th>energy_135</th>\n",
       "      <th>label</th>\n",
       "    </tr>\n",
       "  </thead>\n",
       "  <tbody>\n",
       "    <tr>\n",
       "      <th>0</th>\n",
       "      <td>1.823612</td>\n",
       "      <td>1.799974</td>\n",
       "      <td>1.599251</td>\n",
       "      <td>1.867987</td>\n",
       "      <td>0.968657</td>\n",
       "      <td>0.969226</td>\n",
       "      <td>0.9731</td>\n",
       "      <td>0.967216</td>\n",
       "      <td>0.910344</td>\n",
       "      <td>0.91043</td>\n",
       "      <td>...</td>\n",
       "      <td>203.114124</td>\n",
       "      <td>0.799544</td>\n",
       "      <td>0.798817</td>\n",
       "      <td>0.80096</td>\n",
       "      <td>0.798584</td>\n",
       "      <td>0.894172</td>\n",
       "      <td>0.893766</td>\n",
       "      <td>0.894964</td>\n",
       "      <td>0.893635</td>\n",
       "      <td>bayammerah</td>\n",
       "    </tr>\n",
       "  </tbody>\n",
       "</table>\n",
       "<p>1 rows × 25 columns</p>\n",
       "</div>"
      ],
      "text/plain": [
       "   dissimilarity_0  dissimilarity_45  dissimilarity_90  dissimilarity_135  \\\n",
       "0         1.823612          1.799974          1.599251           1.867987   \n",
       "\n",
       "   correlation_0  correlation_45  correlation_90  correlation_135  \\\n",
       "0       0.968657        0.969226          0.9731         0.967216   \n",
       "\n",
       "   homogeneity_0  homogeneity_45  ...  contrast_135     ASM_0    ASM_45  \\\n",
       "0       0.910344         0.91043  ...    203.114124  0.799544  0.798817   \n",
       "\n",
       "    ASM_90   ASM_135  energy_0  energy_45  energy_90  energy_135       label  \n",
       "0  0.80096  0.798584  0.894172   0.893766   0.894964    0.893635  bayammerah  \n",
       "\n",
       "[1 rows x 25 columns]"
      ]
     },
     "execution_count": 13,
     "metadata": {},
     "output_type": "execute_result"
    }
   ],
   "source": [
    "glcm_df.head()"
   ]
  },
  {
   "cell_type": "code",
   "execution_count": 15,
   "metadata": {},
   "outputs": [
    {
     "name": "stdout",
     "output_type": "stream",
     "text": [
      "[[  1.82361158   1.7999739    1.5992509    1.86798669   0.96865739\n",
      "    0.96922578   0.97309975   0.9672157    0.91034443   0.91042983\n",
      "    0.9121867    0.91004636 193.46924296 190.66078419 165.66284016\n",
      "  203.11412448   0.79954356   0.79881702   0.80095968   0.79858353\n",
      "    0.894172     0.89376564   0.89496351   0.89363501]] \n",
      "\n",
      " ['bayammerah']\n"
     ]
    }
   ],
   "source": [
    "X = glcm_df.iloc[:, :-1].values  \n",
    "y = glcm_df.iloc[:, 24].values\n",
    "\n",
    "print(X,\"\\n\\n\", y)"
   ]
  }
 ],
 "metadata": {
  "kernelspec": {
   "display_name": "Python 3",
   "language": "python",
   "name": "python3"
  },
  "language_info": {
   "codemirror_mode": {
    "name": "ipython",
    "version": 3
   },
   "file_extension": ".py",
   "mimetype": "text/x-python",
   "name": "python",
   "nbconvert_exporter": "python",
   "pygments_lexer": "ipython3",
   "version": "3.8.3"
  }
 },
 "nbformat": 4,
 "nbformat_minor": 4
}
